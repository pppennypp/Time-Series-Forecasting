{
 "cells": [
  {
   "cell_type": "markdown",
   "metadata": {},
   "source": [
    "## Project - Data Analysis\n",
    "\n",
    "**This project is to analyze the data on the major crime indicators (MCI 2014 - 2018) reported by Toronto Police Service to gain insights.**\n"
   ]
  },
  {
   "cell_type": "code",
   "execution_count": 1,
   "metadata": {},
   "outputs": [],
   "source": [
    "import numpy as np\n",
    "import pandas as pd\n",
    "import matplotlib as mpl\n",
    "import matplotlib.pyplot as pl\n",
    "from datetime import datetime\n",
    "%matplotlib inline"
   ]
  },
  {
   "cell_type": "code",
   "execution_count": 2,
   "metadata": {},
   "outputs": [
    {
     "data": {
      "text/html": [
       "<div>\n",
       "<style scoped>\n",
       "    .dataframe tbody tr th:only-of-type {\n",
       "        vertical-align: middle;\n",
       "    }\n",
       "\n",
       "    .dataframe tbody tr th {\n",
       "        vertical-align: top;\n",
       "    }\n",
       "\n",
       "    .dataframe thead th {\n",
       "        text-align: right;\n",
       "    }\n",
       "</style>\n",
       "<table border=\"1\" class=\"dataframe\">\n",
       "  <thead>\n",
       "    <tr style=\"text-align: right;\">\n",
       "      <th></th>\n",
       "      <th>X</th>\n",
       "      <th>Y</th>\n",
       "      <th>Index_</th>\n",
       "      <th>event_unique_id</th>\n",
       "      <th>occurrencedate</th>\n",
       "      <th>reporteddate</th>\n",
       "      <th>premisetype</th>\n",
       "      <th>ucr_code</th>\n",
       "      <th>ucr_ext</th>\n",
       "      <th>offence</th>\n",
       "      <th>...</th>\n",
       "      <th>occurrencedayofyear</th>\n",
       "      <th>occurrencedayofweek</th>\n",
       "      <th>occurrencehour</th>\n",
       "      <th>MCI</th>\n",
       "      <th>Division</th>\n",
       "      <th>Hood_ID</th>\n",
       "      <th>Neighbourhood</th>\n",
       "      <th>Lat</th>\n",
       "      <th>Long</th>\n",
       "      <th>ObjectId</th>\n",
       "    </tr>\n",
       "  </thead>\n",
       "  <tbody>\n",
       "    <tr>\n",
       "      <th>0</th>\n",
       "      <td>-79.343094</td>\n",
       "      <td>43.668449</td>\n",
       "      <td>214</td>\n",
       "      <td>GO-20141948968</td>\n",
       "      <td>2014-04-24T11:29:00.000Z</td>\n",
       "      <td>2014-04-24T12:46:00.000Z</td>\n",
       "      <td>Commercial</td>\n",
       "      <td>1610</td>\n",
       "      <td>200</td>\n",
       "      <td>Robbery - Mugging</td>\n",
       "      <td>...</td>\n",
       "      <td>114.0</td>\n",
       "      <td>Thursday</td>\n",
       "      <td>11</td>\n",
       "      <td>Robbery</td>\n",
       "      <td>D55</td>\n",
       "      <td>68</td>\n",
       "      <td>North Riverdale (68)</td>\n",
       "      <td>43.668449</td>\n",
       "      <td>-79.343094</td>\n",
       "      <td>1</td>\n",
       "    </tr>\n",
       "    <tr>\n",
       "      <th>1</th>\n",
       "      <td>-79.507927</td>\n",
       "      <td>43.759285</td>\n",
       "      <td>215</td>\n",
       "      <td>GO-20141950728</td>\n",
       "      <td>2014-04-24T13:00:00.000Z</td>\n",
       "      <td>2014-04-24T15:58:00.000Z</td>\n",
       "      <td>House</td>\n",
       "      <td>2120</td>\n",
       "      <td>200</td>\n",
       "      <td>B&amp;E</td>\n",
       "      <td>...</td>\n",
       "      <td>114.0</td>\n",
       "      <td>Thursday</td>\n",
       "      <td>13</td>\n",
       "      <td>Break and Enter</td>\n",
       "      <td>D31</td>\n",
       "      <td>24</td>\n",
       "      <td>Black Creek (24)</td>\n",
       "      <td>43.759285</td>\n",
       "      <td>-79.507927</td>\n",
       "      <td>2</td>\n",
       "    </tr>\n",
       "    <tr>\n",
       "      <th>2</th>\n",
       "      <td>-79.501663</td>\n",
       "      <td>43.697552</td>\n",
       "      <td>216</td>\n",
       "      <td>GO-20141956416</td>\n",
       "      <td>2014-04-25T13:20:00.000Z</td>\n",
       "      <td>2014-04-25T13:52:00.000Z</td>\n",
       "      <td>Apartment</td>\n",
       "      <td>1430</td>\n",
       "      <td>100</td>\n",
       "      <td>Assault</td>\n",
       "      <td>...</td>\n",
       "      <td>115.0</td>\n",
       "      <td>Friday</td>\n",
       "      <td>13</td>\n",
       "      <td>Assault</td>\n",
       "      <td>D12</td>\n",
       "      <td>30</td>\n",
       "      <td>Brookhaven-Amesbury (30)</td>\n",
       "      <td>43.697552</td>\n",
       "      <td>-79.501663</td>\n",
       "      <td>3</td>\n",
       "    </tr>\n",
       "    <tr>\n",
       "      <th>3</th>\n",
       "      <td>-79.571510</td>\n",
       "      <td>43.721703</td>\n",
       "      <td>217</td>\n",
       "      <td>GO-20141956867</td>\n",
       "      <td>2014-04-24T17:00:00.000Z</td>\n",
       "      <td>2014-04-25T10:30:00.000Z</td>\n",
       "      <td>Outside</td>\n",
       "      <td>1430</td>\n",
       "      <td>100</td>\n",
       "      <td>Assault</td>\n",
       "      <td>...</td>\n",
       "      <td>114.0</td>\n",
       "      <td>Thursday</td>\n",
       "      <td>17</td>\n",
       "      <td>Assault</td>\n",
       "      <td>D23</td>\n",
       "      <td>4</td>\n",
       "      <td>Rexdale-Kipling (4)</td>\n",
       "      <td>43.721703</td>\n",
       "      <td>-79.571510</td>\n",
       "      <td>4</td>\n",
       "    </tr>\n",
       "    <tr>\n",
       "      <th>4</th>\n",
       "      <td>-79.503487</td>\n",
       "      <td>43.663891</td>\n",
       "      <td>218</td>\n",
       "      <td>GO-20141957505</td>\n",
       "      <td>2014-04-25T16:00:00.000Z</td>\n",
       "      <td>2014-04-25T16:15:00.000Z</td>\n",
       "      <td>Apartment</td>\n",
       "      <td>1430</td>\n",
       "      <td>100</td>\n",
       "      <td>Assault</td>\n",
       "      <td>...</td>\n",
       "      <td>115.0</td>\n",
       "      <td>Friday</td>\n",
       "      <td>16</td>\n",
       "      <td>Assault</td>\n",
       "      <td>D11</td>\n",
       "      <td>114</td>\n",
       "      <td>Lambton Baby Point (114)</td>\n",
       "      <td>43.663891</td>\n",
       "      <td>-79.503487</td>\n",
       "      <td>5</td>\n",
       "    </tr>\n",
       "  </tbody>\n",
       "</table>\n",
       "<p>5 rows × 29 columns</p>\n",
       "</div>"
      ],
      "text/plain": [
       "           X          Y  Index_ event_unique_id            occurrencedate  \\\n",
       "0 -79.343094  43.668449     214  GO-20141948968  2014-04-24T11:29:00.000Z   \n",
       "1 -79.507927  43.759285     215  GO-20141950728  2014-04-24T13:00:00.000Z   \n",
       "2 -79.501663  43.697552     216  GO-20141956416  2014-04-25T13:20:00.000Z   \n",
       "3 -79.571510  43.721703     217  GO-20141956867  2014-04-24T17:00:00.000Z   \n",
       "4 -79.503487  43.663891     218  GO-20141957505  2014-04-25T16:00:00.000Z   \n",
       "\n",
       "               reporteddate premisetype  ucr_code  ucr_ext            offence  \\\n",
       "0  2014-04-24T12:46:00.000Z  Commercial      1610      200  Robbery - Mugging   \n",
       "1  2014-04-24T15:58:00.000Z       House      2120      200                B&E   \n",
       "2  2014-04-25T13:52:00.000Z   Apartment      1430      100            Assault   \n",
       "3  2014-04-25T10:30:00.000Z     Outside      1430      100            Assault   \n",
       "4  2014-04-25T16:15:00.000Z   Apartment      1430      100            Assault   \n",
       "\n",
       "   ...  occurrencedayofyear occurrencedayofweek  occurrencehour  \\\n",
       "0  ...                114.0          Thursday                11   \n",
       "1  ...                114.0          Thursday                13   \n",
       "2  ...                115.0          Friday                  13   \n",
       "3  ...                114.0          Thursday                17   \n",
       "4  ...                115.0          Friday                  16   \n",
       "\n",
       "               MCI Division  Hood_ID             Neighbourhood        Lat  \\\n",
       "0          Robbery      D55       68      North Riverdale (68)  43.668449   \n",
       "1  Break and Enter      D31       24          Black Creek (24)  43.759285   \n",
       "2          Assault      D12       30  Brookhaven-Amesbury (30)  43.697552   \n",
       "3          Assault      D23        4       Rexdale-Kipling (4)  43.721703   \n",
       "4          Assault      D11      114  Lambton Baby Point (114)  43.663891   \n",
       "\n",
       "        Long  ObjectId  \n",
       "0 -79.343094         1  \n",
       "1 -79.507927         2  \n",
       "2 -79.501663         3  \n",
       "3 -79.571510         4  \n",
       "4 -79.503487         5  \n",
       "\n",
       "[5 rows x 29 columns]"
      ]
     },
     "execution_count": 2,
     "metadata": {},
     "output_type": "execute_result"
    }
   ],
   "source": [
    "mci = pd.read_csv('C:/Users/Penny/Desktop/Data Science/Intro to Data Science/Project/MCI_2014_to_2018.csv' )\n",
    "mci.head()"
   ]
  },
  {
   "cell_type": "markdown",
   "metadata": {},
   "source": [
    "**Select useful attributes:**\n",
    "There are 29 attributes in the dataset, not all of them make sense or are meaningful, our analysis will be based on the followings six attributes: occurrencedate, reporteddate, premisetype, occurrencedayofyear, occurrencedayofweek, occurrencehour, offence, MCI, Division."
   ]
  },
  {
   "cell_type": "code",
   "execution_count": 3,
   "metadata": {},
   "outputs": [
    {
     "data": {
      "text/html": [
       "<div>\n",
       "<style scoped>\n",
       "    .dataframe tbody tr th:only-of-type {\n",
       "        vertical-align: middle;\n",
       "    }\n",
       "\n",
       "    .dataframe tbody tr th {\n",
       "        vertical-align: top;\n",
       "    }\n",
       "\n",
       "    .dataframe thead th {\n",
       "        text-align: right;\n",
       "    }\n",
       "</style>\n",
       "<table border=\"1\" class=\"dataframe\">\n",
       "  <thead>\n",
       "    <tr style=\"text-align: right;\">\n",
       "      <th></th>\n",
       "      <th>occurrencedate</th>\n",
       "      <th>reporteddate</th>\n",
       "      <th>premisetype</th>\n",
       "      <th>occurrencedayofyear</th>\n",
       "      <th>occurrencedayofweek</th>\n",
       "      <th>occurrencehour</th>\n",
       "      <th>offence</th>\n",
       "      <th>MCI</th>\n",
       "      <th>Division</th>\n",
       "    </tr>\n",
       "  </thead>\n",
       "  <tbody>\n",
       "    <tr>\n",
       "      <th>54117</th>\n",
       "      <td>2017-03-01T06:00:00.000Z</td>\n",
       "      <td>2017-03-01T19:35:00.000Z</td>\n",
       "      <td>Apartment</td>\n",
       "      <td>60.0</td>\n",
       "      <td>Wednesday</td>\n",
       "      <td>6</td>\n",
       "      <td>Assault</td>\n",
       "      <td>Assault</td>\n",
       "      <td>D22</td>\n",
       "    </tr>\n",
       "  </tbody>\n",
       "</table>\n",
       "</div>"
      ],
      "text/plain": [
       "                 occurrencedate              reporteddate premisetype  \\\n",
       "54117  2017-03-01T06:00:00.000Z  2017-03-01T19:35:00.000Z   Apartment   \n",
       "\n",
       "       occurrencedayofyear occurrencedayofweek  occurrencehour  offence  \\\n",
       "54117                 60.0          Wednesday                6  Assault   \n",
       "\n",
       "           MCI Division  \n",
       "54117  Assault      D22  "
      ]
     },
     "execution_count": 3,
     "metadata": {},
     "output_type": "execute_result"
    }
   ],
   "source": [
    "mci = mci[['occurrencedate', 'reporteddate', 'premisetype', 'occurrencedayofyear', 'occurrencedayofweek', \n",
    "           'occurrencehour', 'offence', 'MCI', 'Division']]\n",
    "mci.sample()"
   ]
  },
  {
   "cell_type": "markdown",
   "metadata": {},
   "source": [
    "**Define a function to extract date from the long list of occurrenc edate and reported date.**"
   ]
  },
  {
   "cell_type": "code",
   "execution_count": 4,
   "metadata": {},
   "outputs": [],
   "source": [
    "def date_extract(date):\n",
    "    return str(date).split('T')[0].strip()"
   ]
  },
  {
   "cell_type": "markdown",
   "metadata": {},
   "source": [
    "**Convert the original occurrence date and reported date to actually date format.**"
   ]
  },
  {
   "cell_type": "code",
   "execution_count": 5,
   "metadata": {},
   "outputs": [],
   "source": [
    "mci['occurrencedate'] = mci['occurrencedate'].apply(date_extract)\n",
    "mci['reporteddate'] = mci['reporteddate'].apply(date_extract)"
   ]
  },
  {
   "cell_type": "markdown",
   "metadata": {},
   "source": [
    "**After cleaning a bit, this is the new version of dataset we will be using:**"
   ]
  },
  {
   "cell_type": "code",
   "execution_count": 6,
   "metadata": {},
   "outputs": [
    {
     "data": {
      "text/html": [
       "<div>\n",
       "<style scoped>\n",
       "    .dataframe tbody tr th:only-of-type {\n",
       "        vertical-align: middle;\n",
       "    }\n",
       "\n",
       "    .dataframe tbody tr th {\n",
       "        vertical-align: top;\n",
       "    }\n",
       "\n",
       "    .dataframe thead th {\n",
       "        text-align: right;\n",
       "    }\n",
       "</style>\n",
       "<table border=\"1\" class=\"dataframe\">\n",
       "  <thead>\n",
       "    <tr style=\"text-align: right;\">\n",
       "      <th></th>\n",
       "      <th>occurrencedate</th>\n",
       "      <th>reporteddate</th>\n",
       "      <th>premisetype</th>\n",
       "      <th>occurrencedayofyear</th>\n",
       "      <th>occurrencedayofweek</th>\n",
       "      <th>occurrencehour</th>\n",
       "      <th>offence</th>\n",
       "      <th>MCI</th>\n",
       "      <th>Division</th>\n",
       "    </tr>\n",
       "  </thead>\n",
       "  <tbody>\n",
       "    <tr>\n",
       "      <th>19071</th>\n",
       "      <td>2016-12-03</td>\n",
       "      <td>2016-12-03</td>\n",
       "      <td>Apartment</td>\n",
       "      <td>338.0</td>\n",
       "      <td>Saturday</td>\n",
       "      <td>9</td>\n",
       "      <td>Assault</td>\n",
       "      <td>Assault</td>\n",
       "      <td>D55</td>\n",
       "    </tr>\n",
       "  </tbody>\n",
       "</table>\n",
       "</div>"
      ],
      "text/plain": [
       "      occurrencedate reporteddate premisetype  occurrencedayofyear  \\\n",
       "19071     2016-12-03   2016-12-03   Apartment                338.0   \n",
       "\n",
       "      occurrencedayofweek  occurrencehour  offence      MCI Division  \n",
       "19071          Saturday                 9  Assault  Assault      D55  "
      ]
     },
     "execution_count": 6,
     "metadata": {},
     "output_type": "execute_result"
    }
   ],
   "source": [
    "mci.sample()"
   ]
  },
  {
   "cell_type": "markdown",
   "metadata": {},
   "source": [
    "**From 2014 to 2018, there are 167,525 observations (major crime incidents) reported by Toronto Police Service.**"
   ]
  },
  {
   "cell_type": "code",
   "execution_count": 7,
   "metadata": {},
   "outputs": [
    {
     "name": "stdout",
     "output_type": "stream",
     "text": [
      "<class 'pandas.core.frame.DataFrame'>\n",
      "RangeIndex: 167525 entries, 0 to 167524\n",
      "Data columns (total 9 columns):\n",
      "occurrencedate         167525 non-null object\n",
      "reporteddate           167525 non-null object\n",
      "premisetype            167525 non-null object\n",
      "occurrencedayofyear    167476 non-null float64\n",
      "occurrencedayofweek    167476 non-null object\n",
      "occurrencehour         167525 non-null int64\n",
      "offence                167525 non-null object\n",
      "MCI                    167525 non-null object\n",
      "Division               167525 non-null object\n",
      "dtypes: float64(1), int64(1), object(7)\n",
      "memory usage: 11.5+ MB\n"
     ]
    }
   ],
   "source": [
    "mci.info()"
   ]
  },
  {
   "cell_type": "markdown",
   "metadata": {},
   "source": [
    "**Number of each crime type reported from 2014 - 2018:**"
   ]
  },
  {
   "cell_type": "code",
   "execution_count": 8,
   "metadata": {},
   "outputs": [
    {
     "data": {
      "text/plain": [
       "MCI\n",
       "Assault            90878\n",
       "Auto Theft         18178\n",
       "Break and Enter    34911\n",
       "Robbery            18128\n",
       "Theft Over          5430\n",
       "dtype: int64"
      ]
     },
     "execution_count": 8,
     "metadata": {},
     "output_type": "execute_result"
    }
   ],
   "source": [
    "mci[['MCI']].groupby(['MCI']).size()"
   ]
  },
  {
   "cell_type": "code",
   "execution_count": 9,
   "metadata": {},
   "outputs": [
    {
     "data": {
      "text/plain": [
       "<matplotlib.axes._subplots.AxesSubplot at 0x1a27a04c5c0>"
      ]
     },
     "execution_count": 9,
     "metadata": {},
     "output_type": "execute_result"
    },
    {
     "data": {
      "image/png": "[encoded data removed]",
      "text/plain": [
       "<Figure size 720x504 with 1 Axes>"
      ]
     },
     "metadata": {
      "needs_background": "light"
     },
     "output_type": "display_data"
    }
   ],
   "source": [
    "mci[['MCI']].groupby(['MCI']).size().plot(kind='bar', figsize=(10, 7))"
   ]
  },
  {
   "cell_type": "code",
   "execution_count": null,
   "metadata": {},
   "outputs": [],
   "source": []
  },
  {
   "cell_type": "code",
   "execution_count": 10,
   "metadata": {},
   "outputs": [
    {
     "data": {
      "text/html": [
       "<div>\n",
       "<style scoped>\n",
       "    .dataframe tbody tr th:only-of-type {\n",
       "        vertical-align: middle;\n",
       "    }\n",
       "\n",
       "    .dataframe tbody tr th {\n",
       "        vertical-align: top;\n",
       "    }\n",
       "\n",
       "    .dataframe thead th {\n",
       "        text-align: right;\n",
       "    }\n",
       "</style>\n",
       "<table border=\"1\" class=\"dataframe\">\n",
       "  <thead>\n",
       "    <tr style=\"text-align: right;\">\n",
       "      <th>premisetype</th>\n",
       "      <th>Apartment</th>\n",
       "      <th>Commercial</th>\n",
       "      <th>House</th>\n",
       "      <th>Other</th>\n",
       "      <th>Outside</th>\n",
       "    </tr>\n",
       "    <tr>\n",
       "      <th>MCI</th>\n",
       "      <th></th>\n",
       "      <th></th>\n",
       "      <th></th>\n",
       "      <th></th>\n",
       "      <th></th>\n",
       "    </tr>\n",
       "  </thead>\n",
       "  <tbody>\n",
       "    <tr>\n",
       "      <th>Assault</th>\n",
       "      <td>28491</td>\n",
       "      <td>14237</td>\n",
       "      <td>11642</td>\n",
       "      <td>14186</td>\n",
       "      <td>22322</td>\n",
       "    </tr>\n",
       "    <tr>\n",
       "      <th>Auto Theft</th>\n",
       "      <td>395</td>\n",
       "      <td>1815</td>\n",
       "      <td>4982</td>\n",
       "      <td>480</td>\n",
       "      <td>10506</td>\n",
       "    </tr>\n",
       "    <tr>\n",
       "      <th>Break and Enter</th>\n",
       "      <td>9238</td>\n",
       "      <td>10428</td>\n",
       "      <td>13156</td>\n",
       "      <td>2078</td>\n",
       "      <td>11</td>\n",
       "    </tr>\n",
       "    <tr>\n",
       "      <th>Robbery</th>\n",
       "      <td>1642</td>\n",
       "      <td>4184</td>\n",
       "      <td>526</td>\n",
       "      <td>1471</td>\n",
       "      <td>10305</td>\n",
       "    </tr>\n",
       "    <tr>\n",
       "      <th>Theft Over</th>\n",
       "      <td>823</td>\n",
       "      <td>1878</td>\n",
       "      <td>965</td>\n",
       "      <td>413</td>\n",
       "      <td>1351</td>\n",
       "    </tr>\n",
       "  </tbody>\n",
       "</table>\n",
       "</div>"
      ],
      "text/plain": [
       "premisetype      Apartment  Commercial  House  Other  Outside\n",
       "MCI                                                          \n",
       "Assault              28491       14237  11642  14186    22322\n",
       "Auto Theft             395        1815   4982    480    10506\n",
       "Break and Enter       9238       10428  13156   2078       11\n",
       "Robbery               1642        4184    526   1471    10305\n",
       "Theft Over             823        1878    965    413     1351"
      ]
     },
     "execution_count": 10,
     "metadata": {},
     "output_type": "execute_result"
    }
   ],
   "source": [
    "crimes_in_division = pd.crosstab(mci['MCI'], mci['premisetype'])\n",
    "crimes_in_division"
   ]
  },
  {
   "cell_type": "code",
   "execution_count": 11,
   "metadata": {},
   "outputs": [
    {
     "data": {
      "text/plain": [
       "<matplotlib.axes._subplots.AxesSubplot at 0x1a271956358>"
      ]
     },
     "execution_count": 11,
     "metadata": {},
     "output_type": "execute_result"
    },
    {
     "data": {
      "image/png": "[encoded data removed]",
      "text/plain": [
       "<Figure size 720x504 with 1 Axes>"
      ]
     },
     "metadata": {
      "needs_background": "light"
     },
     "output_type": "display_data"
    }
   ],
   "source": [
    "crimes_in_division.plot(kind='bar', stacked=True, rot = 0, figsize=(10, 7))"
   ]
  },
  {
   "cell_type": "code",
   "execution_count": null,
   "metadata": {},
   "outputs": [],
   "source": []
  },
  {
   "cell_type": "code",
   "execution_count": null,
   "metadata": {},
   "outputs": [],
   "source": []
  },
  {
   "cell_type": "code",
   "execution_count": null,
   "metadata": {},
   "outputs": [],
   "source": []
  },
  {
   "cell_type": "code",
   "execution_count": null,
   "metadata": {},
   "outputs": [],
   "source": []
  },
  {
   "cell_type": "code",
   "execution_count": null,
   "metadata": {},
   "outputs": [],
   "source": []
  }
 ],
 "metadata": {
  "kernelspec": {
   "display_name": "Python 3",
   "language": "python",
   "name": "python3"
  },
  "language_info": {
   "codemirror_mode": {
    "name": "ipython",
    "version": 3
   },
   "file_extension": ".py",
   "mimetype": "text/x-python",
   "name": "python",
   "nbconvert_exporter": "python",
   "pygments_lexer": "ipython3",
   "version": "3.7.3"
  }
 },
 "nbformat": 4,
 "nbformat_minor": 2
}
